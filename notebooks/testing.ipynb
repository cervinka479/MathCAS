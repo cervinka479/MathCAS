{
 "cells": [
  {
   "cell_type": "code",
   "execution_count": 1,
   "id": "0a0c9010",
   "metadata": {},
   "outputs": [],
   "source": [
    "import sys\n",
    "from pathlib import Path\n",
    "\n",
    "project_root = Path.cwd().parent\n",
    "if str(project_root) not in sys.path:\n",
    "    sys.path.insert(0, str(project_root))"
   ]
  },
  {
   "cell_type": "code",
   "execution_count": null,
   "id": "4652f361",
   "metadata": {},
   "outputs": [],
   "source": [
    "experiment_relative_path = r\"outputs\\2025-08-06_09-53-26_eda_shear_50M\"\n",
    "test_data_path = r\"C:\\Users\\cervinka\\cervinka\\GitHub\\MathCAS\\datasets\\dataset_compressible_flow_5M_test.csv\""
   ]
  },
  {
   "cell_type": "code",
   "execution_count": 3,
   "id": "43ce5e08",
   "metadata": {},
   "outputs": [
    {
     "name": "stdout",
     "output_type": "stream",
     "text": [
      "NeuralNetwork(\n",
      "  (layers): ModuleList(\n",
      "    (0): Linear(in_features=9, out_features=250, bias=True)\n",
      "    (1): ReLU()\n",
      "    (2): Linear(in_features=250, out_features=250, bias=True)\n",
      "    (3): ReLU()\n",
      "    (4): Linear(in_features=250, out_features=250, bias=True)\n",
      "    (5): ReLU()\n",
      "    (6): Linear(in_features=250, out_features=250, bias=True)\n",
      "    (7): ReLU()\n",
      "    (8): Linear(in_features=250, out_features=250, bias=True)\n",
      "    (9): ReLU()\n",
      "    (10): Linear(in_features=250, out_features=250, bias=True)\n",
      "    (11): ReLU()\n",
      "    (12): Linear(in_features=250, out_features=250, bias=True)\n",
      "    (13): ReLU()\n",
      "    (14): Linear(in_features=250, out_features=3, bias=True)\n",
      "  )\n",
      ")\n"
     ]
    }
   ],
   "source": [
    "# Load model architecture and weights from experiment directory #\n",
    "\n",
    "import torch\n",
    "from pathlib import Path\n",
    "from config import load_config\n",
    "from src.architecture import NeuralNetwork\n",
    "\n",
    "exp_dir = project_root / Path(experiment_relative_path)\n",
    "\n",
    "# Now use exp_dir for all further paths\n",
    "config_path = exp_dir / \"config.yaml\"\n",
    "model_path = exp_dir / \"best_model.pt\"\n",
    "\n",
    "config = load_config(str(config_path))\n",
    "\n",
    "# Reconstruct model architecture\n",
    "model = NeuralNetwork(config.architecture)\n",
    "\n",
    "# Load trained weights\n",
    "state_dict = torch.load(model_path, map_location=\"cpu\", weights_only=True)\n",
    "model.load_state_dict(state_dict)\n",
    "\n",
    "print(model)"
   ]
  },
  {
   "cell_type": "code",
   "execution_count": 5,
   "id": "fc0ba842",
   "metadata": {},
   "outputs": [
    {
     "name": "stdout",
     "output_type": "stream",
     "text": [
      "\n",
      "Metrics for output 'ResVort':\n",
      "  MAPE: 5.4520e+01\n",
      "  MAE: 4.3453e-03\n",
      "  MSE: 1.0271e-04\n",
      "  MedAE: 9.4187e-04\n",
      "  MaxAE: 2.8947e-01\n",
      "\n",
      "Metrics for output 'ResStrain':\n",
      "  MAPE: 2.3260e+01\n",
      "  MAE: 6.9658e-03\n",
      "  MSE: 1.9044e-04\n",
      "  MedAE: 4.5735e-03\n",
      "  MaxAE: 5.3292e-01\n",
      "\n",
      "Metrics for output 'Shear':\n",
      "  MAPE: 3.7261e-01\n",
      "  MAE: 4.5275e-03\n",
      "  MSE: 7.0177e-05\n",
      "  MedAE: 2.8708e-03\n",
      "  MaxAE: 2.6604e-01\n"
     ]
    }
   ],
   "source": [
    "import pandas as pd\n",
    "import torch\n",
    "import time\n",
    "from torch.utils.data import DataLoader, TensorDataset\n",
    "from utils.metrics import compute_regression_metrics  \n",
    "\n",
    "# Load test data\n",
    "test_df = pd.read_csv(test_data_path, usecols=config.data.in_cols + config.data.out_cols)\n",
    "X_test = torch.tensor(test_df[config.data.in_cols].values, dtype=torch.float32)\n",
    "y_test = torch.tensor(test_df[config.data.out_cols].values, dtype=torch.float32)\n",
    "\n",
    "# Create DataLoader for test set\n",
    "test_loader = DataLoader(TensorDataset(X_test, y_test), batch_size=config.data.batch_size or 128, shuffle=False)\n",
    "\n",
    "# Set model to eval mode\n",
    "model.eval()\n",
    "all_preds, all_targets = [], []\n",
    "\n",
    "start_time = time.time()\n",
    "with torch.no_grad():\n",
    "    for batch_x, batch_y in test_loader:\n",
    "        preds = model(batch_x)\n",
    "        all_preds.append(preds.cpu())\n",
    "        all_targets.append(batch_y.cpu())\n",
    "inference_time = time.time() - start_time\n",
    "\n",
    "y_pred = torch.cat(all_preds, dim=0).numpy()\n",
    "y_true = torch.cat(all_targets, dim=0).numpy()\n",
    "\n",
    "metrics = compute_regression_metrics(y_true, y_pred)\n",
    "# Print metrics for each output column separately\n",
    "output_cols = config.data.out_cols  # list of output column names\n",
    "\n",
    "for i, col in enumerate(output_cols):\n",
    "    y_true_col = y_true[:, i]\n",
    "    y_pred_col = y_pred[:, i]\n",
    "    metrics = compute_regression_metrics(y_true_col, y_pred_col)\n",
    "    print(f\"\\nMetrics for output '{col}':\")\n",
    "    for k, v in metrics.items():\n",
    "        print(f\"  {k}: {v}\")"
   ]
  },
  {
   "cell_type": "code",
   "execution_count": 6,
   "id": "1e22ceb9",
   "metadata": {},
   "outputs": [
    {
     "name": "stdout",
     "output_type": "stream",
     "text": [
      "\n",
      "true, prediction for output 'ResVort':\n",
      "0.00000e+00, -1.37329e-04\n",
      "6.93117e-01, 6.99159e-01\n",
      "0.00000e+00, -2.19731e-04\n",
      "9.83157e-03, 8.81432e-03\n",
      "0.00000e+00, 2.90776e-04\n",
      "0.00000e+00, -2.63471e-05\n",
      "6.08158e-01, 6.11386e-01\n",
      "0.00000e+00, -5.76600e-05\n",
      "1.12723e-01, 1.14564e-01\n",
      "0.00000e+00, -4.26030e-04\n",
      "\n",
      "true, prediction for output 'ResStrain':\n",
      "3.14290e-01, 3.24006e-01\n",
      "1.57298e+00, 1.57794e+00\n",
      "4.39599e-01, 4.37786e-01\n",
      "4.92036e-01, 4.72888e-01\n",
      "1.20406e+00, 1.21047e+00\n",
      "4.16279e-01, 4.10967e-01\n",
      "9.84596e-04, 4.60233e-03\n",
      "9.55960e-01, 9.54306e-01\n",
      "6.57656e-01, 6.53229e-01\n",
      "1.32741e+00, 1.31725e+00\n",
      "\n",
      "true, prediction for output 'Shear':\n",
      "9.10774e-01, 9.09212e-01\n",
      "1.42458e+00, 1.42542e+00\n",
      "1.48472e+00, 1.48328e+00\n",
      "1.63921e+00, 1.63194e+00\n",
      "1.00771e+00, 1.00517e+00\n",
      "1.63139e+00, 1.50591e+00\n",
      "1.81977e+00, 1.82615e+00\n",
      "1.68361e+00, 1.68297e+00\n",
      "3.67199e-01, 3.63743e-01\n",
      "1.68948e+00, 1.69804e+00\n"
     ]
    }
   ],
   "source": [
    "import numpy as np\n",
    "\n",
    "for i, col in enumerate(config.data.out_cols):\n",
    "    print(f\"\\ntrue, prediction for output '{col}':\")\n",
    "    indices = np.random.choice(len(y_true), size=10, replace=False)\n",
    "    for idx in indices:\n",
    "        true_val = np.ravel(y_true[idx])[i]\n",
    "        pred_val = np.ravel(y_pred[idx])[i]\n",
    "        print(f\"{true_val:.5e}, {pred_val:.5e}\")"
   ]
  },
  {
   "cell_type": "code",
   "execution_count": 8,
   "id": "45188c1a",
   "metadata": {},
   "outputs": [
    {
     "name": "stdout",
     "output_type": "stream",
     "text": [
      "Results saved to c:\\Users\\cervinka\\cervinka\\GitHub\\MathCAS\\outputs\\2025-08-04_22-52-18_dan_250\\test_results.txt\n"
     ]
    }
   ],
   "source": [
    "# Save metrics to a txt file #\n",
    "import numpy as np\n",
    "\n",
    "results_lines = []\n",
    "\n",
    "output_cols = config.data.out_cols\n",
    "for i, col in enumerate(output_cols):\n",
    "    y_true_col = y_true[:, i]\n",
    "    y_pred_col = y_pred[:, i]\n",
    "    metrics = compute_regression_metrics(y_true_col, y_pred_col)\n",
    "    results_lines.append(f\"\\nMetrics for output '{col}':\")\n",
    "    for k, v in metrics.items():\n",
    "        results_lines.append(f\"  {k}: {v}\")\n",
    "\n",
    "# Save 10 random predictions for each output\n",
    "for i, col in enumerate(output_cols):\n",
    "    results_lines.append(f\"\\ntrue, prediction for output '{col}':\")\n",
    "    indices = np.random.choice(len(y_true), size=10, replace=False)\n",
    "    for idx in indices:\n",
    "        true_val = np.ravel(y_true[idx])[i]\n",
    "        pred_val = np.ravel(y_pred[idx])[i]\n",
    "        results_lines.append(f\"{true_val:.5e}, {pred_val:.5e}\")\n",
    "\n",
    "# Write to file in experiment folder\n",
    "results_path = exp_dir / \"test_results.txt\"\n",
    "with open(results_path, \"w\") as f:\n",
    "    for line in results_lines:\n",
    "        f.write(line + \"\\n\")\n",
    "\n",
    "print(f\"Results saved to {results_path}\")"
   ]
  }
 ],
 "metadata": {
  "kernelspec": {
   "display_name": "venv (3.11.9)",
   "language": "python",
   "name": "python3"
  },
  "language_info": {
   "codemirror_mode": {
    "name": "ipython",
    "version": 3
   },
   "file_extension": ".py",
   "mimetype": "text/x-python",
   "name": "python",
   "nbconvert_exporter": "python",
   "pygments_lexer": "ipython3",
   "version": "3.11.9"
  }
 },
 "nbformat": 4,
 "nbformat_minor": 5
}
