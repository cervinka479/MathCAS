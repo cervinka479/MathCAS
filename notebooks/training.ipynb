{
 "cells": [
  {
   "cell_type": "code",
   "execution_count": null,
   "id": "94091986",
   "metadata": {},
   "outputs": [],
   "source": [
    "import os\n",
    "import sys\n",
    "import torch\n",
    "import numpy as np\n",
    "import yaml\n",
    "import logging\n",
    "from pathlib import Path\n",
    "from src import architecture, dataset, trainer\n",
    "from utils import experiment, logger, metrics, modules, profiler"
   ]
  },
  {
   "cell_type": "code",
   "execution_count": null,
   "id": "70acbdcc",
   "metadata": {},
   "outputs": [],
   "source": [
    "from config.schema import ArchitectureConfig\n",
    "\n",
    "arch_config = ArchitectureConfig(\n",
    "    in_size=9,\n",
    "    out_size=3,\n",
    "    hidden_layers=[64, 32],\n",
    "    activation=\"ReLU\",\n",
    "    use_dropout=True,\n",
    "    dropout=0.5,\n",
    "    dropout_inplace=True,\n",
    "    final_activation=None\n",
    ")"
   ]
  },
  {
   "cell_type": "code",
   "execution_count": null,
   "id": "fbe09777",
   "metadata": {},
   "outputs": [],
   "source": [
    "print(arch_config)"
   ]
  },
  {
   "cell_type": "code",
   "execution_count": null,
   "id": "58640fa1",
   "metadata": {},
   "outputs": [],
   "source": [
    "from src.architecture import NeuralNetwork\n",
    "\n",
    "model = NeuralNetwork(arch_config)\n",
    "print(model)"
   ]
  }
 ],
 "metadata": {
  "kernelspec": {
   "display_name": "venv (3.11.9)",
   "language": "python",
   "name": "python3"
  },
  "language_info": {
   "name": "python",
   "version": "3.11.9"
  }
 },
 "nbformat": 4,
 "nbformat_minor": 5
}
