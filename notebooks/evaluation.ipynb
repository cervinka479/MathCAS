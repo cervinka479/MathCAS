{
 "cells": [
  {
   "cell_type": "code",
   "execution_count": 1,
   "id": "0a0c9010",
   "metadata": {},
   "outputs": [],
   "source": [
    "import sys\n",
    "from pathlib import Path\n",
    "\n",
    "project_root = Path.cwd().parent\n",
    "if str(project_root) not in sys.path:\n",
    "    sys.path.insert(0, str(project_root))"
   ]
  },
  {
   "cell_type": "markdown",
   "id": "fdc3e220",
   "metadata": {},
   "source": [
    "## Load model and test data"
   ]
  },
  {
   "cell_type": "code",
   "execution_count": null,
   "id": "4652f361",
   "metadata": {},
   "outputs": [],
   "source": [
    "experiment_relative_path = r\"outputs\\2025-08-06_09-53-26_eda_shear_50M\"\n",
    "\n",
    "eval_data_path: Path = Path(r\"C:\\Users\\cervinka\\cervinka\\GitHub\\MathCAS\\datasets\\dataset_compressible_flow_5M_test.csv\")"
   ]
  },
  {
   "cell_type": "code",
   "execution_count": null,
   "id": "43ce5e08",
   "metadata": {},
   "outputs": [],
   "source": [
    "# Load m experiment directory #\n",
    "\n",
    "import torch\n",
    "from pathlib import Path\n",
    "from config import load_config, FullConfig\n",
    "from src.architecture import NeuralNetwork\n",
    "\n",
    "exp_dir: Path = project_root / Path(experiment_relative_path)\n",
    "\n",
    "config_path = exp_dir / \"config.yaml\"\n",
    "\n",
    "config: FullConfig = load_config(config_path)"
   ]
  },
  {
   "cell_type": "markdown",
   "id": "7f221d38",
   "metadata": {},
   "source": [
    "## Make predictions on the test data"
   ]
  },
  {
   "cell_type": "code",
   "execution_count": null,
   "id": "88e2b782",
   "metadata": {},
   "outputs": [],
   "source": [
    "from src.evaluation import evaluate\n",
    "\n",
    "evaluate(config, exp_dir, eval_data_path)"
   ]
  },
  {
   "cell_type": "markdown",
   "id": "e1f42d06",
   "metadata": {},
   "source": [
    "## Double model Evaluation"
   ]
  },
  {
   "cell_type": "code",
   "execution_count": null,
   "id": "dece87b9",
   "metadata": {},
   "outputs": [
    {
     "name": "stdout",
     "output_type": "stream",
     "text": [
      "\n",
      "Metrics for output 'ResVort':\n",
      "  MAPE: 2.2642e+01\n",
      "  MAE: 1.8322e-03\n",
      "  MSE: 1.3190e-05\n",
      "  MedAE: 1.9151e-04\n",
      "  MaxAE: 2.4958e-01\n",
      "\n",
      "Metrics for output 'ResStrain':\n",
      "  MAPE: 9.3281e+00\n",
      "  MAE: 3.1150e-03\n",
      "  MSE: 2.1701e-05\n",
      "  MedAE: 2.3877e-03\n",
      "  MaxAE: 4.2955e-01\n"
     ]
    },
    {
     "ename": "",
     "evalue": "",
     "output_type": "error",
     "traceback": [
      "\u001b[1;31mThe Kernel crashed while executing code in the current cell or a previous cell. \n",
      "\u001b[1;31mPlease review the code in the cell(s) to identify a possible cause of the failure. \n",
      "\u001b[1;31mClick <a href='https://aka.ms/vscodeJupyterKernelCrash'>here</a> for more info. \n",
      "\u001b[1;31mView Jupyter <a href='command:jupyter.viewOutput'>log</a> for further details."
     ]
    }
   ],
   "source": [
    "import pandas as pd\n",
    "import torch\n",
    "from src.evaluation import load_model\n",
    "from config import load_config\n",
    "from utils.metrics import compute_regression_metrics\n",
    "\n",
    "# Paths for models and configs\n",
    "shear_exp_dir = project_root / r\"outputs\\2025-08-26_12-47-54_shear_dan_750\"\n",
    "shear_config = load_config(shear_exp_dir / \"config.yaml\")\n",
    "shear_model = load_model(shear_config, shear_exp_dir)\n",
    "\n",
    "res_exp_dir = project_root / r\"outputs\\2025-08-27_11-17-55_res_trueShear_dan_750\"\n",
    "res_config = load_config(res_exp_dir / \"config.yaml\")\n",
    "res_model = load_model(res_config, res_exp_dir)\n",
    "\n",
    "# Load data\n",
    "df = pd.read_csv(r\"C:\\Users\\cervinka\\cervinka\\GitHub\\MathCAS\\datasets\\dataset_compressible_flow_5M_test.csv\")\n",
    "\n",
    "# Predict shear\n",
    "shear_inputs = df[shear_config.data.in_cols].values\n",
    "shear_tensor = torch.tensor(shear_inputs, dtype=torch.float32)\n",
    "with torch.no_grad():\n",
    "    pred_shear = shear_model(shear_tensor).squeeze().numpy()\n",
    "df[\"PredShear\"] = pred_shear\n",
    "\n",
    "# Prepare inputs for second model (original + PredShear)\n",
    "res_inputs = df[res_config.data.in_cols].values\n",
    "res_tensor = torch.tensor(res_inputs, dtype=torch.float32)\n",
    "with torch.no_grad():\n",
    "    res_pred = res_model(res_tensor).squeeze().numpy()\n",
    "\n",
    "# Print metrics for the second model\n",
    "output_cols = res_config.data.out_cols\n",
    "y_true = df[output_cols].values\n",
    "y_pred = res_pred if res_pred.ndim == 2 else res_pred.reshape(-1, 1)\n",
    "\n",
    "for i, col in enumerate(output_cols):\n",
    "    y_true_col = y_true[:, i]\n",
    "    y_pred_col = y_pred[:, i]\n",
    "    metrics = compute_regression_metrics(y_true_col, y_pred_col)\n",
    "    print(f\"\\nMetrics for output '{col}':\")\n",
    "    for k, v in metrics.items():\n",
    "        print(f\"  {k}: {v}\")"
   ]
  }
 ],
 "metadata": {
  "kernelspec": {
   "display_name": "venv (3.11.9)",
   "language": "python",
   "name": "python3"
  },
  "language_info": {
   "codemirror_mode": {
    "name": "ipython",
    "version": 3
   },
   "file_extension": ".py",
   "mimetype": "text/x-python",
   "name": "python",
   "nbconvert_exporter": "python",
   "pygments_lexer": "ipython3",
   "version": "3.11.9"
  }
 },
 "nbformat": 4,
 "nbformat_minor": 5
}
