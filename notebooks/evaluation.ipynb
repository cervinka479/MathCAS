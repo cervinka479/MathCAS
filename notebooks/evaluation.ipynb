{
 "cells": [
  {
   "cell_type": "code",
   "execution_count": 1,
   "id": "0a0c9010",
   "metadata": {},
   "outputs": [],
   "source": [
    "import sys\n",
    "from pathlib import Path\n",
    "\n",
    "project_root = Path.cwd().parent\n",
    "if str(project_root) not in sys.path:\n",
    "    sys.path.insert(0, str(project_root))"
   ]
  },
  {
   "cell_type": "markdown",
   "id": "fdc3e220",
   "metadata": {},
   "source": [
    "## Load model and test data"
   ]
  },
  {
   "cell_type": "code",
   "execution_count": 2,
   "id": "4652f361",
   "metadata": {},
   "outputs": [],
   "source": [
    "experiment_relative_path = r\"outputs\\2025-08-06_09-53-26_eda_shear_50M\"\n",
    "\n",
    "eval_data_path: Path = Path(r\"C:\\Users\\cervinka\\cervinka\\GitHub\\MathCAS\\datasets\\dataset_compressible_flow_5M_test.csv\")"
   ]
  },
  {
   "cell_type": "code",
   "execution_count": null,
   "id": "43ce5e08",
   "metadata": {},
   "outputs": [],
   "source": [
    "# Load m experiment directory #\n",
    "\n",
    "import torch\n",
    "from pathlib import Path\n",
    "from config import load_config, FullConfig\n",
    "from src.architecture import NeuralNetwork\n",
    "\n",
    "exp_dir: Path = project_root / Path(experiment_relative_path)\n",
    "\n",
    "config_path = exp_dir / \"config.yaml\"\n",
    "\n",
    "config: FullConfig = load_config(config_path)"
   ]
  },
  {
   "cell_type": "markdown",
   "id": "7f221d38",
   "metadata": {},
   "source": [
    "## Make predictions on the test data"
   ]
  },
  {
   "cell_type": "code",
   "execution_count": 4,
   "id": "88e2b782",
   "metadata": {},
   "outputs": [],
   "source": [
    "from src.evaluation import evaluate\n",
    "\n",
    "evaluate(config, exp_dir, eval_data_path)"
   ]
  }
 ],
 "metadata": {
  "kernelspec": {
   "display_name": "venv (3.11.9)",
   "language": "python",
   "name": "python3"
  },
  "language_info": {
   "codemirror_mode": {
    "name": "ipython",
    "version": 3
   },
   "file_extension": ".py",
   "mimetype": "text/x-python",
   "name": "python",
   "nbconvert_exporter": "python",
   "pygments_lexer": "ipython3",
   "version": "3.11.9"
  }
 },
 "nbformat": 4,
 "nbformat_minor": 5
}
