{
 "cells": [
  {
   "cell_type": "code",
   "execution_count": 2,
   "id": "01d5116d",
   "metadata": {},
   "outputs": [],
   "source": [
    "import pandas as pd\n",
    "\n",
    "# Load the dataset\n",
    "df = pd.read_csv(r'datasets/dataset_compressible_flow_60M_training_nstep180.csv')\n",
    "\n",
    "# Extract data from 50 million to 55 million (assuming row indices)\n",
    "test_df = df.iloc[50_000_000:55_000_000]\n",
    "\n",
    "# Save as test dataset\n",
    "test_df.to_csv('datasets/dataset_compressible_flow_5M_test.csv', index=False)"
   ]
  },
  {
   "cell_type": "code",
   "execution_count": 1,
   "id": "188bbf83",
   "metadata": {},
   "outputs": [
    {
     "name": "stdout",
     "output_type": "stream",
     "text": [
      "Headings: ['A11', 'A21', 'A31', 'A12', 'A22', 'A32', 'A13', 'A23', 'A33', 'alpha_brf', 'beta_brf', 'gamma_brf', 'ResVort', 'ResStrain', 'Shear', 'Delta', 'lambda_ci', 'Q', 'lambda_2']\n"
     ]
    }
   ],
   "source": [
    "import csv\n",
    "\n",
    "csv_path = r'datasets\\dataset_compressible_flow_60M_training_nstep180.csv'\n",
    "\n",
    "with open(csv_path, newline='', encoding='utf-8') as csvfile:\n",
    "    reader = csv.reader(csvfile)\n",
    "    headers = next(reader)\n",
    "    print(\"Headings:\", headers)"
   ]
  }
 ],
 "metadata": {
  "kernelspec": {
   "display_name": "venv (3.11.9)",
   "language": "python",
   "name": "python3"
  },
  "language_info": {
   "codemirror_mode": {
    "name": "ipython",
    "version": 3
   },
   "file_extension": ".py",
   "mimetype": "text/x-python",
   "name": "python",
   "nbconvert_exporter": "python",
   "pygments_lexer": "ipython3",
   "version": "3.11.9"
  }
 },
 "nbformat": 4,
 "nbformat_minor": 5
}
